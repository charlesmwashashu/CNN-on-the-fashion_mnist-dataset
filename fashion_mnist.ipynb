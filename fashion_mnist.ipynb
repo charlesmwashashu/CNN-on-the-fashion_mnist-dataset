{
 "cells": [
  {
   "cell_type": "markdown",
   "id": "a444e326",
   "metadata": {},
   "source": [
    "Imports and load data"
   ]
  },
  {
   "cell_type": "code",
   "execution_count": 1,
   "id": "675a9852",
   "metadata": {},
   "outputs": [],
   "source": [
    "#import the libraries \n",
    "import pandas as pd\n",
    "import numpy as np\n",
    "import seaborn as sns\n",
    "import matplotlib.pyplot as plt\n",
    "import tensorflow as tf\n",
    "import sklearn\n"
   ]
  },
  {
   "cell_type": "code",
   "execution_count": 2,
   "id": "818c2bda",
   "metadata": {},
   "outputs": [],
   "source": [
    "#load the dataset\n",
    "(x_train,y_train),(x_test,y_test) = tf.keras.datasets.fashion_mnist.load_data()"
   ]
  },
  {
   "cell_type": "markdown",
   "id": "147fe54e",
   "metadata": {},
   "source": [
    "Exploratory data analysis"
   ]
  },
  {
   "cell_type": "code",
   "execution_count": 3,
   "id": "18d31daf",
   "metadata": {},
   "outputs": [
    {
     "name": "stdout",
     "output_type": "stream",
     "text": [
      "(60000, 28, 28)\n",
      "(60000,)\n",
      "(10000, 28, 28)\n",
      "(10000,)\n"
     ]
    }
   ],
   "source": [
    "#check the shape of the dataset\n",
    "for i in (x_train, y_train, x_test, y_test):\n",
    "    print(i.shape)"
   ]
  },
  {
   "cell_type": "code",
   "execution_count": 4,
   "id": "bc57a39a",
   "metadata": {},
   "outputs": [
    {
     "data": {
      "text/plain": [
       "(28, 28)"
      ]
     },
     "execution_count": 4,
     "metadata": {},
     "output_type": "execute_result"
    }
   ],
   "source": [
    "#check the shape of a single image\n",
    "x_train[0].shape"
   ]
  },
  {
   "cell_type": "code",
   "execution_count": 5,
   "id": "ceb951cd",
   "metadata": {},
   "outputs": [
    {
     "data": {
      "text/plain": [
       "<matplotlib.image.AxesImage at 0x7f983ac33220>"
      ]
     },
     "execution_count": 5,
     "metadata": {},
     "output_type": "execute_result"
    },
    {
     "data": {
      "image/png": "[encoded data removed]",
      "text/plain": [
       "<Figure size 432x288 with 1 Axes>"
      ]
     },
     "metadata": {
      "needs_background": "light"
     },
     "output_type": "display_data"
    }
   ],
   "source": [
    "#show train image at index i\n",
    "i = 777\n",
    "plt.imshow(x_train[i],cmap='Greys') "
   ]
  },
  {
   "cell_type": "code",
   "execution_count": 6,
   "id": "cac4ec60",
   "metadata": {},
   "outputs": [
    {
     "data": {
      "text/plain": [
       "5"
      ]
     },
     "execution_count": 6,
     "metadata": {},
     "output_type": "execute_result"
    }
   ],
   "source": [
    "#train image at index i belongs to class 5 (sandal)\n",
    "y_train[i] "
   ]
  },
  {
   "cell_type": "markdown",
   "id": "7b88208f",
   "metadata": {},
   "source": [
    "Image preprocessing"
   ]
  },
  {
   "cell_type": "code",
   "execution_count": 7,
   "id": "6179dcc8",
   "metadata": {},
   "outputs": [
    {
     "data": {
      "text/plain": [
       "255"
      ]
     },
     "execution_count": 7,
     "metadata": {},
     "output_type": "execute_result"
    }
   ],
   "source": [
    "#check maximum value of rgb code\n",
    "x_train[0].max() "
   ]
  },
  {
   "cell_type": "code",
   "execution_count": 8,
   "id": "ddd55649",
   "metadata": {},
   "outputs": [],
   "source": [
    "#normalize the images by dividing them with the maximum rgb code\n",
    "x_train = x_train/255\n",
    "x_test = x_test/255"
   ]
  },
  {
   "cell_type": "code",
   "execution_count": 9,
   "id": "32ba41eb",
   "metadata": {},
   "outputs": [],
   "source": [
    "#reshape the images to 4 dimension so that it works  with Keras API\n",
    "x_train = x_train.reshape(60000, 28, 28, 1)\n",
    "x_test = x_test.reshape(10000, 28, 28, 1)"
   ]
  },
  {
   "cell_type": "code",
   "execution_count": 10,
   "id": "3587f800",
   "metadata": {},
   "outputs": [],
   "source": [
    "#convert the target class vector (integers) to binary class matrix\n",
    "y_cat_train = tf.keras.utils.to_categorical(y_train)\n",
    "y_cat_test = tf.keras.utils.to_categorical(y_test)"
   ]
  },
  {
   "cell_type": "markdown",
   "id": "72126ddc",
   "metadata": {},
   "source": [
    "Create the model"
   ]
  },
  {
   "cell_type": "code",
   "execution_count": 11,
   "id": "471d4dbb",
   "metadata": {},
   "outputs": [],
   "source": [
    "#split the train data to train and validation set\n",
    "from sklearn.model_selection import train_test_split\n",
    "x_train, val_x, y_cat_train, val_y = train_test_split(x_train, y_cat_train, test_size=0.1, random_state=42)"
   ]
  },
  {
   "cell_type": "code",
   "execution_count": 12,
   "id": "ba1b86e7",
   "metadata": {},
   "outputs": [
    {
     "data": {
      "text/plain": [
       "(6000, 10)"
      ]
     },
     "execution_count": 12,
     "metadata": {},
     "output_type": "execute_result"
    }
   ],
   "source": [
    "val_y.shape"
   ]
  },
  {
   "cell_type": "code",
   "execution_count": 13,
   "id": "a64c1b6d",
   "metadata": {},
   "outputs": [],
   "source": [
    "#create base sequential model then add layers\n",
    "model = tf.keras.models.Sequential()\n",
    "\n",
    "#add a convolutional layer\n",
    "model.add(tf.keras.layers.Conv2D(filters=32,kernel_size=(4,4),strides=(1,1),padding='valid',activation='relu',input_shape=(28,28,1)))\n",
    "\n",
    "#add a pooling layer\n",
    "model.add(tf.keras.layers.MaxPool2D(pool_size=(2,2)))\n",
    "\n",
    "#add a second convolutional layer\n",
    "model.add(tf.keras.layers.Conv2D(filters=64,kernel_size=(4,4),strides=(1,1),padding='valid',activation='relu'))\n",
    "\n",
    "#add a second pooling layer\n",
    "model.add(tf.keras.layers.MaxPool2D(pool_size=(2,2)))\n",
    "\n",
    "#flatten the 2D arrays for a fully connected model\n",
    "model.add(tf.keras.layers.Flatten())\n",
    "\n",
    "#add 3 dense layers with a rectified linear unit activation function\n",
    "model.add(tf.keras.layers.Dense(units=128,activation='relu'))\n",
    "\n",
    "model.add(tf.keras.layers.Dense(units=64,activation='relu'))\n",
    "\n",
    "model.add(tf.keras.layers.Dense(units=32,activation='relu'))\n",
    "\n",
    "#add a dropout layer with a 20% rate\n",
    "model.add(tf.keras.layers.Dropout(rate=0.2))\n",
    "\n",
    "#add a last dense layer with 10 neurons for each target class with a softmax activation function\n",
    "model.add(tf.keras.layers.Dense(units=10,activation='softmax'))\n",
    "\n",
    "#compile the model\n",
    "model.compile(optimizer='adam',loss=\"categorical_crossentropy\",metrics=['accuracy'])"
   ]
  },
  {
   "cell_type": "code",
   "execution_count": 14,
   "id": "60ce76a2",
   "metadata": {},
   "outputs": [
    {
     "name": "stdout",
     "output_type": "stream",
     "text": [
      "Model: \"sequential\"\n",
      "_________________________________________________________________\n",
      " Layer (type)                Output Shape              Param #   \n",
      "=================================================================\n",
      " conv2d (Conv2D)             (None, 25, 25, 32)        544       \n",
      "                                                                 \n",
      " max_pooling2d (MaxPooling2D  (None, 12, 12, 32)       0         \n",
      " )                                                               \n",
      "                                                                 \n",
      " conv2d_1 (Conv2D)           (None, 9, 9, 64)          32832     \n",
      "                                                                 \n",
      " max_pooling2d_1 (MaxPooling  (None, 4, 4, 64)         0         \n",
      " 2D)                                                             \n",
      "                                                                 \n",
      " flatten (Flatten)           (None, 1024)              0         \n",
      "                                                                 \n",
      " dense (Dense)               (None, 128)               131200    \n",
      "                                                                 \n",
      " dense_1 (Dense)             (None, 64)                8256      \n",
      "                                                                 \n",
      " dense_2 (Dense)             (None, 32)                2080      \n",
      "                                                                 \n",
      " dropout (Dropout)           (None, 32)                0         \n",
      "                                                                 \n",
      " dense_3 (Dense)             (None, 10)                330       \n",
      "                                                                 \n",
      "=================================================================\n",
      "Total params: 175,242\n",
      "Trainable params: 175,242\n",
      "Non-trainable params: 0\n",
      "_________________________________________________________________\n"
     ]
    }
   ],
   "source": [
    "#check model summary\n",
    "model.summary()"
   ]
  },
  {
   "cell_type": "code",
   "execution_count": 15,
   "id": "139cabd5",
   "metadata": {},
   "outputs": [],
   "source": [
    "#create a callback \n",
    "early_stop = tf.keras.callbacks.EarlyStopping(monitor='val_loss',patience=2,restore_best_weights=True)"
   ]
  },
  {
   "cell_type": "code",
   "execution_count": 16,
   "id": "21c10218",
   "metadata": {
    "scrolled": true
   },
   "outputs": [
    {
     "name": "stdout",
     "output_type": "stream",
     "text": [
      "Epoch 1/15\n",
      "1688/1688 [==============================] - 81s 47ms/step - loss: 0.6473 - accuracy: 0.7666 - val_loss: 0.3930 - val_accuracy: 0.8537\n",
      "Epoch 2/15\n",
      "1688/1688 [==============================] - 75s 45ms/step - loss: 0.3868 - accuracy: 0.8631 - val_loss: 0.3419 - val_accuracy: 0.8705\n",
      "Epoch 3/15\n",
      "1688/1688 [==============================] - 70s 41ms/step - loss: 0.3295 - accuracy: 0.8837 - val_loss: 0.2814 - val_accuracy: 0.8950\n",
      "Epoch 4/15\n",
      "1688/1688 [==============================] - 74s 44ms/step - loss: 0.2930 - accuracy: 0.8946 - val_loss: 0.2733 - val_accuracy: 0.8988\n",
      "Epoch 5/15\n",
      "1688/1688 [==============================] - 79s 47ms/step - loss: 0.2606 - accuracy: 0.9078 - val_loss: 0.2720 - val_accuracy: 0.9035\n",
      "Epoch 6/15\n",
      "1688/1688 [==============================] - 82s 49ms/step - loss: 0.2420 - accuracy: 0.9127 - val_loss: 0.2733 - val_accuracy: 0.9032\n",
      "Epoch 7/15\n",
      "1688/1688 [==============================] - 92s 55ms/step - loss: 0.2228 - accuracy: 0.9187 - val_loss: 0.2740 - val_accuracy: 0.9017\n"
     ]
    },
    {
     "data": {
      "text/plain": [
       "<keras.callbacks.History at 0x7f9818ed8e80>"
      ]
     },
     "execution_count": 16,
     "metadata": {},
     "output_type": "execute_result"
    }
   ],
   "source": [
    "#fit the model\n",
    "model.fit(x_train,y_cat_train,epochs=15,callbacks=[early_stop],validation_data=(val_x,val_y))"
   ]
  },
  {
   "cell_type": "markdown",
   "id": "3bbb1c6d",
   "metadata": {},
   "source": [
    "Evaluate the model"
   ]
  },
  {
   "cell_type": "code",
   "execution_count": 17,
   "id": "e0adcee1",
   "metadata": {},
   "outputs": [],
   "source": [
    "#request the model history\n",
    "metrics = pd.DataFrame(model.history.history)"
   ]
  },
  {
   "cell_type": "code",
   "execution_count": 18,
   "id": "5dbcc1ca",
   "metadata": {},
   "outputs": [
    {
     "data": {
      "image/png": "[encoded data removed]",
      "text/plain": [
       "<Figure size 432x288 with 2 Axes>"
      ]
     },
     "metadata": {
      "needs_background": "light"
     },
     "output_type": "display_data"
    }
   ],
   "source": [
    "#plot the monitored metrics\n",
    "fig, ax = plt.subplots(1,2)\n",
    "sns.lineplot(data=metrics[['loss','val_loss']],ax=ax[0])\n",
    "sns.lineplot(data=metrics[['accuracy','val_accuracy']],ax=ax[1])\n",
    "plt.show()"
   ]
  },
  {
   "cell_type": "code",
   "execution_count": 19,
   "id": "92fe37e0",
   "metadata": {},
   "outputs": [
    {
     "name": "stdout",
     "output_type": "stream",
     "text": [
      "Train accuracy: [0.2211410254240036, 0.9203703999519348]\n",
      "Validation accuracy: [0.2720002233982086, 0.9035000205039978]\n",
      "Test accuracy: [0.2929202914237976, 0.8931000232696533]\n"
     ]
    }
   ],
   "source": [
    "#print the accuracy of the model on train, validation and test set\n",
    "print(f\"Train accuracy: {model.evaluate(x_train,y_cat_train,verbose=False)}\")\n",
    "print(f\"Validation accuracy: {model.evaluate(val_x,val_y,verbose=False)}\")\n",
    "print(f\"Test accuracy: {model.evaluate(x_test,y_cat_test,verbose=False)}\")"
   ]
  },
  {
   "cell_type": "code",
   "execution_count": 20,
   "id": "37e1f351",
   "metadata": {},
   "outputs": [],
   "source": [
    "#make predictions on the test set\n",
    "predictions = np.argmax(model.predict(x_test),axis=1)"
   ]
  },
  {
   "cell_type": "code",
   "execution_count": 21,
   "id": "1e439411",
   "metadata": {},
   "outputs": [
    {
     "name": "stdout",
     "output_type": "stream",
     "text": [
      "              precision    recall  f1-score   support\n",
      "\n",
      "           0       0.85      0.83      0.84      1000\n",
      "           1       0.99      0.98      0.99      1000\n",
      "           2       0.85      0.84      0.85      1000\n",
      "           3       0.87      0.92      0.90      1000\n",
      "           4       0.81      0.86      0.83      1000\n",
      "           5       0.93      0.99      0.96      1000\n",
      "           6       0.72      0.66      0.69      1000\n",
      "           7       0.96      0.91      0.94      1000\n",
      "           8       0.97      0.97      0.97      1000\n",
      "           9       0.97      0.96      0.96      1000\n",
      "\n",
      "    accuracy                           0.89     10000\n",
      "   macro avg       0.89      0.89      0.89     10000\n",
      "weighted avg       0.89      0.89      0.89     10000\n",
      "\n"
     ]
    }
   ],
   "source": [
    "#print the classification report\n",
    "print(sklearn.metrics.classification_report(y_test,predictions))"
   ]
  },
  {
   "cell_type": "code",
   "execution_count": 22,
   "id": "c4a8e01a",
   "metadata": {},
   "outputs": [
    {
     "data": {
      "text/plain": [
       "<AxesSubplot:>"
      ]
     },
     "execution_count": 22,
     "metadata": {},
     "output_type": "execute_result"
    },
    {
     "data": {
      "image/png": "[encoded data removed]",
      "text/plain": [
       "<Figure size 864x720 with 2 Axes>"
      ]
     },
     "metadata": {
      "needs_background": "light"
     },
     "output_type": "display_data"
    }
   ],
   "source": [
    "#visualize the heatmap of the confusion matrix\n",
    "plt.figure(figsize=(12,10))\n",
    "sns.heatmap(sklearn.metrics.confusion_matrix(y_test,predictions),annot=True)"
   ]
  },
  {
   "cell_type": "code",
   "execution_count": 23,
   "id": "55406135",
   "metadata": {},
   "outputs": [
    {
     "data": {
      "text/plain": [
       "<matplotlib.image.AxesImage at 0x7f981a720c40>"
      ]
     },
     "execution_count": 23,
     "metadata": {},
     "output_type": "execute_result"
    },
    {
     "data": {
      "image/png": "[encoded data removed]",
      "text/plain": [
       "<Figure size 432x288 with 1 Axes>"
      ]
     },
     "metadata": {
      "needs_background": "light"
     },
     "output_type": "display_data"
    }
   ],
   "source": [
    "#make predictions for test item at index i\n",
    "test_item_index = 456\n",
    "test_item = x_test[test_item_index]\n",
    "plt.imshow(test_item,cmap='Greys') #show image at index i "
   ]
  },
  {
   "cell_type": "code",
   "execution_count": 24,
   "id": "7182cb73",
   "metadata": {},
   "outputs": [
    {
     "data": {
      "text/plain": [
       "array([9])"
      ]
     },
     "execution_count": 24,
     "metadata": {},
     "output_type": "execute_result"
    }
   ],
   "source": [
    "#make prediction\n",
    "np.argmax(model.predict(test_item.reshape(1,28,28,1)),axis=1) "
   ]
  },
  {
   "cell_type": "code",
   "execution_count": 25,
   "id": "213a3578",
   "metadata": {},
   "outputs": [
    {
     "data": {
      "text/plain": [
       "9"
      ]
     },
     "execution_count": 25,
     "metadata": {},
     "output_type": "execute_result"
    }
   ],
   "source": [
    "#actual label of predicted item\n",
    "y_test[test_item_index]"
   ]
  },
  {
   "cell_type": "markdown",
   "id": "fddb1030",
   "metadata": {},
   "source": [
    "Model has predicted correctly."
   ]
  }
 ],
 "metadata": {
  "kernelspec": {
   "display_name": "Python 3 (ipykernel)",
   "language": "python",
   "name": "python3"
  },
  "language_info": {
   "codemirror_mode": {
    "name": "ipython",
    "version": 3
   },
   "file_extension": ".py",
   "mimetype": "text/x-python",
   "name": "python",
   "nbconvert_exporter": "python",
   "pygments_lexer": "ipython3",
   "version": "3.9.12"
  }
 },
 "nbformat": 4,
 "nbformat_minor": 5
}
